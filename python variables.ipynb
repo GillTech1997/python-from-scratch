{
 "cells": [
  {
   "cell_type": "markdown",
   "id": "dede9dcf",
   "metadata": {},
   "source": [
    "# python basics"
   ]
  },
  {
   "cell_type": "code",
   "execution_count": 8,
   "id": "73e4fb23",
   "metadata": {},
   "outputs": [
    {
     "name": "stdout",
     "output_type": "stream",
     "text": [
      "3\n",
      "Partap\n"
     ]
    }
   ],
   "source": [
    "#variables----\n",
    "#lets start with the variables\n",
    "#Variables are containers for storing data values.\n",
    "#Creating Variables\n",
    "#Python has no command for declaring a variable.\n",
    "\n",
    "#A variable is created the moment you first assign a value to it.\n",
    "\n",
    "#Example\n",
    "x = 3\n",
    "y = 'Partap'\n",
    "print(x)\n",
    "print(y)"
   ]
  },
  {
   "cell_type": "markdown",
   "id": "6d56472f",
   "metadata": {},
   "source": [
    "# Output Variables\n",
    "The Python print() function is often used to output variables.\n",
    "\n"
   ]
  },
  {
   "cell_type": "code",
   "execution_count": 11,
   "id": "972da9e5",
   "metadata": {},
   "outputs": [
    {
     "name": "stdout",
     "output_type": "stream",
     "text": [
      "deep\n"
     ]
    }
   ],
   "source": [
    "#Variables do not need to be declared with any particular type, and can even change type after they have been set.\n",
    "\n",
    "#Example\n",
    "\n",
    "x = 4 #x is type of int\n",
    "x ='deep' #x is now type of str(string) now \n",
    "print(x)"
   ]
  },
  {
   "cell_type": "raw",
   "id": "586f1857",
   "metadata": {},
   "source": [
    "casting in varibales \n",
    "If you want to specify the data type of a variable, this can be done with casting."
   ]
  },
  {
   "cell_type": "code",
   "execution_count": 16,
   "id": "79fab44e",
   "metadata": {},
   "outputs": [
    {
     "name": "stdout",
     "output_type": "stream",
     "text": [
      "<class 'str'> 3\n",
      "<class 'int'> 3\n",
      "<class 'float'> 3.0\n"
     ]
    }
   ],
   "source": [
    "#Example \n",
    "x = str(3) #x will become str(string) type variable \n",
    "y = int(3)  #y will become int (integer) type variable \n",
    "z = float(3)  #z will become float-number type variable \n",
    "\n",
    "#You can also get the data type of a variable with the type() function.\n",
    "print(type(x),x) \n",
    "print(type(y),y)\n",
    "print(type(z),z)"



"#Text Type:	str \n",
"#Numeric Types:	int, float, complex \n",
"#Sequence Types:	list, tuple, range \n",
"#Mapping Type:	dict \n",
"#Set Types:	set, frozenset \n",
"#Boolean Type:	bool \n",
"#Binary Types:	bytes, bytearray, memoryview \n",
"#None Type:	NoneType"
   ]
  },
  {
   "cell_type": "raw",
   "id": "de847210",
   "metadata": {},
   "source": [
    "Single or Double Quotes?\n",
    "never get confuse with the single quotes or double quotes\n",
    "String variables can be declared either by using single or double quotes"
   ]
  },
  {
   "cell_type": "code",
   "execution_count": 21,
   "id": "825095a6",
   "metadata": {},
   "outputs": [
    {
     "name": "stdout",
     "output_type": "stream",
     "text": [
      "<class 'str'> jap\n",
      "<class 'str'> jap\n"
     ]
    }
   ],
   "source": [
    "#Example\n",
    "x = 'jap'\n",
    "y = 'jap'\n",
    "print(type(x),x)\n",
    "print(type(y),y)\n"
   ]
  },
  {
   "cell_type": "raw",
   "id": "5a983734",
   "metadata": {},
   "source": [
    "Case-Sensitive\n",
    "Variable names are case-sensitive."
   ]
  },
  {
   "cell_type": "code",
   "execution_count": 22,
   "id": "b3a81df4",
   "metadata": {},
   "outputs": [
    {
     "name": "stdout",
     "output_type": "stream",
     "text": [
      "6\n"
     ]
    }
   ],
   "source": [
    "b = 6\n",
    "B = 'sally'\n",
    "\n",
    "print(b) #B will not overwrite a"
   ]
  },
  {
   "cell_type": "markdown",
   "id": "ef804672",
   "metadata": {},
   "source": [
    "# Variable Names"
   ]
  },
  {
   "cell_type": "raw",
   "id": "a0f21aad",
   "metadata": {},
   "source": [
    "A variable can have a short name (like x and y) or a more descriptive name (age, carname, total_volume). Rules for Python variables:\n",
    "(1)A variable name must start with a letter or the underscore character\n",
    "(2)A variable name cannot start with a number\n",
    "(3)A variable name can only contain alpha-numeric characters and underscores (A-z, 0-9, and _ )\n",
    "(4)Variable names are case-sensitive (age, Age and AGE are three different variables)\n",
    "(5)A variable name cannot be any of the Python keywords.\n",
    "\n",
    "Pthon Keyword:\t            Description:\n",
    "and\t                    A logical operator\n",
    "as\t                    To create an alias\n",
    "assert\t                For debugging\n",
    "break\t                To break out of a loop\n",
    "class\t                To define a class\n",
    "continue\t            To continue to the next iteration of a loop\n",
    "def\t                    To define a function\n",
    "del\t                    To delete an object\n",
    "elif\t                Used in conditional statements, same as else if\n",
    "else\t                Used in conditional statements\n",
    "except\t                Used with exceptions, what to do when an exception occurs\n",
    "False\t                Boolean value, result of comparison operations\n",
    "finally\t                Used with exceptions, a block of code that will be executed no matter if there is an exception or not\n",
    "for\t                    To create a for loop\n",
    "from\t                To import specific parts of a module\n",
    "global\t                To declare a global variable\n",
    "if\t                    To make a conditional statement\n",
    "import\t                To import a module\n",
    "in\t                    To check if a value is present in a list, tuple, etc.\n",
    "is\t                    To test if two variables are equal\n",
    "lambda\t                To create an anonymous function\n",
    "None\t                Represents a null value\n",
    "nonlocal\t            To declare a non-local variable\n",
    "not\t                    A logical operator\n",
    "or\t                    A logical operator\n",
    "pass\t                A null statement, a statement that will do nothing\n",
    "raise\t                To raise an exception\n",
    "return\t                To exit a function and return a value\n",
    "True\t                Boolean value, result of comparison operations\n",
    "try\t                    To make a try...except statement\n",
    "while\t                To create a while loop\n",
    "with\t                Used to simplify exception handling\n",
    "yield\t                To return a list of values from a generator"
   ]
  },
  {
   "cell_type": "code",
   "execution_count": 29,
   "id": "ee8954e7",
   "metadata": {},
   "outputs": [
    {
     "name": "stdout",
     "output_type": "stream",
     "text": [
      "Deep\n",
      "Jap\n",
      "Gill\n",
      "Arsh\n",
      "Rea\n",
      "shivnangi\n"
     ]
    }
   ],
   "source": [
    "#Example\n",
    "#Legal variable names:\n",
    "\n",
    "myvar = 'Deep'\n",
    "my_var = 'Jap'\n",
    "_my_var = 'Gill'\n",
    "myVar = 'Arsh'\n",
    "MYVAR = 'Rea'\n",
    "myvar2 = 'shivnangi'\n",
    "\n",
    "print(myvar)\n",
    "print(my_var)\n",
    "print(_my_var)\n",
    "print(myVar)\n",
    "print(MYVAR)\n",
    "print(myvar2)"
   ]
  },
  {
   "cell_type": "code",
   "execution_count": 30,
   "id": "60401d16",
   "metadata": {},
   "outputs": [
    {
     "ename": "SyntaxError",
     "evalue": "invalid decimal literal (1269115047.py, line 1)",
     "output_type": "error",
     "traceback": [
      "\u001b[1;36m  Cell \u001b[1;32mIn[30], line 1\u001b[1;36m\u001b[0m\n\u001b[1;33m    2myvar = \"John\" #A variable name cannot start with a number\u001b[0m\n\u001b[1;37m    ^\u001b[0m\n\u001b[1;31mSyntaxError\u001b[0m\u001b[1;31m:\u001b[0m invalid decimal literal\n"
     ]
    }
   ],
   "source": [
    "2myvar = 'John' #A variable name cannot start with a number\n",
    "my-var = 'John' #A variable name can only contain alpha-numeric characters and underscores (A-z, 0-9, and _ )\n",
    "my var = 'John' #you can not put space in beetween the name of the variable \n",
    "\n"
   ]
  },
  {
   "cell_type": "raw",
   "id": "48433871",
   "metadata": {},
   "source": [
    "Multi Words Variable Names\n",
    "\n",
    "Variable names with more than one word can be difficult to read.\n",
    "\n",
    "There are several techniques you can use to make them more readable:"
   ]
  },
  {
   "cell_type": "markdown",
   "id": "7a207820",
   "metadata": {},
   "source": [
    "# Camel Case\n",
    "Each word, except the first, starts with a capital letter:"
   ]
  },
  {
   "cell_type": "code",
   "execution_count": 32,
   "id": "f409c27d",
   "metadata": {},
   "outputs": [
    {
     "name": "stdout",
     "output_type": "stream",
     "text": [
      "preet\n"
     ]
    }
   ],
   "source": [
    "myVariableName = 'preet'\n",
    "print(myVariableName)"
   ]
  },
  {
   "cell_type": "markdown",
   "id": "a6dcc007",
   "metadata": {},
   "source": [
    "# Snake Case\n",
    "Each word is separated by an underscore character:"
   ]
  },
  {
   "cell_type": "code",
   "execution_count": 33,
   "id": "ba50f4c7",
   "metadata": {},
   "outputs": [
    {
     "name": "stdout",
     "output_type": "stream",
     "text": [
      "Jap\n"
     ]
    }
   ],
   "source": [
    "my_variable_name = 'Jap' \n",
    "print(my_variable_name)"
   ]
  },
  {
   "cell_type": "markdown",
   "id": "c3a20750",
   "metadata": {},
   "source": [
    "# Assign Multiple Values\n",
    "Python allows you to assign values to multiple variables in one line:"
   ]
  },
  {
   "cell_type": "code",
   "execution_count": 36,
   "id": "3d8497c8",
   "metadata": {},
   "outputs": [
    {
     "name": "stdout",
     "output_type": "stream",
     "text": [
      "Orange\n",
      "Banana\n",
      "Cherry\n"
     ]
    }
   ],
   "source": [
    "#Example\n",
    "x, y, z = 'Orange', 'Banana', 'Cherry'\n",
    "print(x)\n",
    "print(y)\n",
    "print(z)\n",
    "\n",
    "#Note: Make sure the number of variables matches the number of values, or else you will get an error"
   ]
  },
  {
   "cell_type": "markdown",
   "id": "9cb05814",
   "metadata": {},
   "source": [
    "# One Value to Multiple Variables\n",
    "And you can assign the same value to multiple variables in one line:"
   ]
  },
  {
   "cell_type": "code",
   "execution_count": 37,
   "id": "d314816b",
   "metadata": {},
   "outputs": [
    {
     "name": "stdout",
     "output_type": "stream",
     "text": [
      "Orange\n",
      "Orange\n",
      "Orange\n"
     ]
    }
   ],
   "source": [
    "x = y = z = 'Orange'\n",
    "print(x)\n",
    "print(y)\n",
    "print(z)"
   ]
  },
  {
   "cell_type": "markdown",
   "id": "e4a6b06a",
   "metadata": {},
   "source": [
    "# Unpack a Collection\n",
    "If you have a collection of values in a list, tuple etc. Python allows you to extract the values into variables. This is called unpacking."
   ]
  },
  {
   "cell_type": "code",
   "execution_count": 43,
   "id": "f55ab0ba",
   "metadata": {},
   "outputs": [
    {
     "name": "stdout",
     "output_type": "stream",
     "text": [
      "mango\n",
      "grapes\n",
      "cherry\n"
     ]
    }
   ],
   "source": [
    "#Example\n",
    "fruits = ['mango', 'grapes','cherry']\n",
    "x,y,z = fruits\n",
    "print(x)\n",
    "print(y)\n",
    "print(z)"
   ]
  },
  {
   "cell_type": "markdown",
   "id": "bf1b9993",
   "metadata": {},
   "source": [
    "# Output Variables\n",
    "The Python print() function is often used to output variables.\n",
    "\n",
    "From here we will look more about the print() function."
   ]
  },
  {
   "cell_type": "code",
   "execution_count": 44,
   "id": "0423a30a",
   "metadata": {},
   "outputs": [
    {
     "name": "stdout",
     "output_type": "stream",
     "text": [
      "Python is awesome\n"
     ]
    }
   ],
   "source": [
    "#Example\n",
    "x = 'Python is cool'\n",
    "print(x)"
   ]
  },
  {
   "cell_type": "code",
   "execution_count": 46,
   "id": "48c51d11",
   "metadata": {},
   "outputs": [
    {
     "name": "stdout",
     "output_type": "stream",
     "text": [
      "Python is awesome\n"
     ]
    }
   ],
   "source": [
    "#Eaxmple\n",
    "x = 'Python'\n",
    "y = 'is'\n",
    "z = 'cool'\n",
    "print(x, y, z) #In the print() function, you output multiple variables, separated by a comma:"
   ]
  },
  {
   "cell_type": "code",
   "execution_count": 51,
   "id": "b639e4f8",
   "metadata": {},
   "outputs": [
    {
     "name": "stdout",
     "output_type": "stream",
     "text": [
      "Python is cool\n"
     ]
    }
   ],
   "source": [
    "#Example\n",
    "x = 'Python '\n",
    "y = 'is '\n",
    "z = 'cool'\n",
    "print(x + y + z) #You can also use the + operator to output multiple variables:\n",
    "\n",
    "#Notice the space character after 'Python ' and 'is ', without them the result would be 'Pythoniscool'."
   ]
  },
  {
   "cell_type": "code",
   "execution_count": 52,
   "id": "677430bf",
   "metadata": {},
   "outputs": [
    {
     "name": "stdout",
     "output_type": "stream",
     "text": [
      "15\n"
     ]
    }
   ],
   "source": [
    "#Example\n",
    "x = 5\n",
    "y = 10\n",
    "print(x + y) #For numbers, the + character works as a mathematical operator:"
   ]
  },
  {
   "cell_type": "code",
   "execution_count": 53,
   "id": "0f33e525",
   "metadata": {},
   "outputs": [
    {
     "ename": "TypeError",
     "evalue": "unsupported operand type(s) for +: 'int' and 'str'",
     "output_type": "error",
     "traceback": [
      "\u001b[1;31m---------------------------------------------------------------------------\u001b[0m",
      "\u001b[1;31mTypeError\u001b[0m                                 Traceback (most recent call last)",
      "Cell \u001b[1;32mIn[53], line 4\u001b[0m\n\u001b[0;32m      2\u001b[0m x \u001b[38;5;241m=\u001b[39m \u001b[38;5;241m5\u001b[39m\n\u001b[0;32m      3\u001b[0m y \u001b[38;5;241m=\u001b[39m \u001b[38;5;124m'\u001b[39m\u001b[38;5;124mJohn\u001b[39m\u001b[38;5;124m'\u001b[39m\n\u001b[1;32m----> 4\u001b[0m \u001b[38;5;28mprint\u001b[39m(x \u001b[38;5;241m+\u001b[39m y)\n",
      "\u001b[1;31mTypeError\u001b[0m: unsupported operand type(s) for +: 'int' and 'str'"
     ]
    }
   ],
   "source": [
    "#Example\n",
    "x = 5\n",
    "y = 'John'\n",
    "print(x + y) #In the print() function, when you try to combine a string and a number with the + operator, Python will give you an error:"
   ]
  },
  {
   "cell_type": "code",
   "execution_count": 55,
   "id": "29b04c30",
   "metadata": {},
   "outputs": [
    {
     "name": "stdout",
     "output_type": "stream",
     "text": [
      "5 John\n"
     ]
    }
   ],
   "source": [
    "#Example\n",
    "x = 5\n",
    "y = 'John'\n",
    "print(x, y) #The best way to output multiple variables in the print() function is to separate them with commas, which even support different data types:"
   ]
  },
  {
   "cell_type": "markdown",
   "id": "33395225",
   "metadata": {},
   "source": [
    "# Global Variables\n",
    "Variables that are created outside of a function (as in all of the examples in the previous cells(code)) are known as global variables.\n",
    "\n",
    "note.Global variables can be used by everyone, both inside of functions and outside. \n",
    "we will get familer with  the function in the upcoming practice. for now stay focused on globale variables"
   ]
  },
  {
   "cell_type": "code",
   "execution_count": 56,
   "id": "9042cd33",
   "metadata": {},
   "outputs": [
    {
     "name": "stdout",
     "output_type": "stream",
     "text": [
      "Python is cool\n"
     ]
    }
   ],
   "source": [
    "#Example\n",
    "\n",
    "x = 'cool'\n",
    "\n",
    "def myfunc():\n",
    "  print('Python is ' + x)\n",
    "\n",
    "myfunc()"
   ]
  },
  {
   "cell_type": "code",
   "execution_count": 60,
   "id": "ac86b7ff",
   "metadata": {},
   "outputs": [
    {
     "name": "stdout",
     "output_type": "stream",
     "text": [
      "Python is fantastic\n",
      "Python is cool\n"
     ]
    }
   ],
   "source": [
    "#Exmaple\n",
    "x = 'cool'\n",
    "\n",
    "def myfunc():\n",
    "  x = 'fantastic' #Create a variable inside a function, with the same name as the global variable\n",
    "  print('Python is ' + x)\n",
    "\n",
    "myfunc()\n",
    "\n",
    "print('Python is ' + x)\n",
    "\n",
    "#If you create a variable with the same name inside a function, \n",
    "#this variable will be local, and can only be used inside the function. \n",
    "#The global variable with the same name will remain as it was, global and with the original value"
   ]
  },
  {
   "cell_type": "markdown",
   "id": "7392231a",
   "metadata": {},
   "source": [
    "# The global Keyword\n",
    "Normally, when you create a variable inside a function, that variable is local, and can only be used inside that function.\n",
    "\n",
    "To create a global variable inside a function, you can use the global keyword."
   ]
  },
  {
   "cell_type": "code",
   "execution_count": 62,
   "id": "ee3bb553",
   "metadata": {},
   "outputs": [
    {
     "name": "stdout",
     "output_type": "stream",
     "text": [
      "Python is fantastic\n"
     ]
    }
   ],
   "source": [
    "#Example\n",
    "\n",
    "\n",
    "def myfunc():\n",
    "  global x #If you use the global keyword, the variable belongs to the global scope:\n",
    "  x = 'fantastic'\n",
    "\n",
    "myfunc()\n",
    "\n",
    "print('Python is ' + x)"
   ]
  },
  {
   "cell_type": "code",
   "execution_count": 64,
   "id": "66d334ae",
   "metadata": {},
   "outputs": [
    {
     "name": "stdout",
     "output_type": "stream",
     "text": [
      "Python is fantastic\n"
     ]
    }
   ],
   "source": [
    "#Example\n",
    "x = 'cool'\n",
    "\n",
    "def myfunc():\n",
    "  global x   #To change the value of a global variable inside a function, refer to the variable by using the global keyword:\n",
    "  x = 'fantastic'\n",
    "\n",
    "myfunc()\n",
    "\n",
    "print('Python is ' + x)"
   ]
  },
  {
   "cell_type": "code",
   "execution_count": null,
   "id": "aedc7911",
   "metadata": {},
   "outputs": [],
   "source": []
  }
 ],
 "metadata": {
  "kernelspec": {
   "display_name": "Python 3 (ipykernel)",
   "language": "python",
   "name": "python3"
  },
  "language_info": {
   "codemirror_mode": {
    "name": "ipython",
    "version": 3
   },
   "file_extension": ".py",
   "mimetype": "text/x-python",
   "name": "python",
   "nbconvert_exporter": "python",
   "pygments_lexer": "ipython3",
   "version": "3.11.4"
  }
 },
 "nbformat": 4,
 "nbformat_minor": 5
}
