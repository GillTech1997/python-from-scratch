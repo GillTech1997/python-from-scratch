{
 "cells": [
  {
   "cell_type": "markdown",
   "id": "ba2d6197",
   "metadata": {},
   "source": [
    "# Python Data Types\n"
   ]
  },
  {
   "cell_type": "raw",
   "id": "7be669a6",
   "metadata": {},
   "source": [
    "Built-in Data Types\n",
    "in programming, data type is an important concept\n",
    "variables can store data of different types, and differetn types can do different things \n",
    "python has the following data types built-in by default, in these categories:\n",
    "\n",
    "\n",
    "Text Type:\t      str\n",
    "Numeric Types:\t  int, float, complex\n",
    "Sequence Types:\t  list, tuple, range\n",
    "Mapping Type:\t  dict\n",
    "Set Types:\t      set, frozenset\n",
    "Boolean Type:\t  bool\n",
    "Binary Types:\t  bytes, bytearray, memoryview\n",
    "None Type:\t      \n",
    "NoneType"
   ]
  },
  {
   "cell_type": "code",
   "execution_count": 1,
   "id": "0de3317f",
   "metadata": {},
   "outputs": [
    {
     "name": "stdout",
     "output_type": "stream",
     "text": [
      "<class 'int'>\n"
     ]
    }
   ],
   "source": [
    "#As we know we can get data types of any object by using type() function\n",
    "\n",
    "#Example\n",
    "\n",
    "x= 6 \n",
    "print(type(x))"
   ]
  },
  {
   "cell_type": "raw",
   "id": "c203601e",
   "metadata": {},
   "source": [
    "Setting the data types\n",
    "IN python , the data type is the set when you assign a value to a variable:\n",
    "\n",
    "Example\t                                       Data Type\t\n",
    "x = \"Hello World\"\t                            str\t\n",
    "x = 20\t                                        int\t\n",
    "x = 20.5\t                                    float\t\n",
    "x = 1j\t                                        complex\t\n",
    "x = [\"apple\", \"banana\", \"cherry\"]\t            list\t\n",
    "x = (\"apple\", \"banana\", \"cherry\")\t            tuple\t\n",
    "x = range(6)\t                                range\t\n",
    "x = {\"name\" : \"John\", \"age\" : 36}\t            dict\t\n",
    "x = {\"apple\", \"banana\", \"cherry\"}\t            set\t\n",
    "x = frozenset({\"apple\", \"banana\", \"cherry\"})\tfrozenset\t\n",
    "x = True\t                                    bool\t\n",
    "x = b\"Hello\"\t                                bytes\t\n",
    "x = bytearray(5)\t                            bytearray\t\n",
    "x = memoryview(bytes(5))\t                    memoryview\t\n",
    "x = None\t                                    NoneType"
   ]
  },
  {
   "cell_type": "raw",
   "id": "71b8ad85",
   "metadata": {},
   "source": [
    "Setting the Specific Data Type\n",
    "Even if you want to sepfify the data-type, you can use the following constructor function:\n",
    "\n",
    "Example                                         Data Type\n",
    "x = str(\"Hello World\")\t                         str\t\n",
    "x = int(20)\t                                     int\t\n",
    "x = float(20.5)\t                                 float\t\n",
    "x = complex(1j)  \t                             complex\t\n",
    "x = list((\"apple\", \"banana\", \"cherry\"))\t          list\t\n",
    "x = tuple((\"apple\", \"banana\", \"cherry\"))\t      tuple\t\n",
    "x = range(6)\t                                  range\t\n",
    "x = dict(name=\"John\", age=36)\t                  dict\t\n",
    "x = set((\"apple\", \"banana\", \"cherry\"))\t          set\t\n",
    "x = frozenset((\"apple\", \"banana\", \"cherry\"))\t  frozenset\t\n",
    "x = bool(5)\t                                      bool\t\n",
    "x = bytes(5)\t                                  bytes\t\n",
    "x = bytearray(5)\t                              bytearray\t\n",
    "x = memoryview(bytes(5))\t                     memoryview\t\n"
   ]
  },
  {
   "cell_type": "markdown",
   "id": "25ea3b3b",
   "metadata": {},
   "source": [
    "# Python Numbers"
   ]
  },
  {
   "cell_type": "raw",
   "id": "4975301f",
   "metadata": {},
   "source": [
    "There are three numeric types in python \n",
    "int\n",
    "float\n",
    "complex\n",
    "\n",
    "variables of numeric types are created when you addign a value to them:"
   ]
  },
  {
   "cell_type": "code",
   "execution_count": 2,
   "id": "e7cd0ca5",
   "metadata": {},
   "outputs": [],
   "source": [
    "#Example\n",
    "x = 1    #int\n",
    "y = 4.5  #float\n",
    "z = 1j  # complex"
   ]
  },
  {
   "cell_type": "code",
   "execution_count": 3,
   "id": "6812d14d",
   "metadata": {},
   "outputs": [
    {
     "name": "stdout",
     "output_type": "stream",
     "text": [
      "<class 'int'>\n",
      "<class 'int'>\n",
      "<class 'int'>\n"
     ]
    }
   ],
   "source": [
    "#let's Explore an int\n",
    "\n",
    "#Example\n",
    "\n",
    "x = 1 \n",
    "y = 34456333\n",
    "z = -3255643\n",
    "\n",
    "print(type(x))\n",
    "print(type(y))\n",
    "print(type(z))\n",
    "\n",
    "#An int in Python is a built-in data type used to represent whole numbers without a fractional component."
   ]
  },
  {
   "cell_type": "raw",
   "id": "6905ced9",
   "metadata": {},
   "source": [
    "# now we move further to the float data type \n",
    "#Example\n",
    "\n",
    "X = 4.5\n",
    "y = 6.7\n",
    "z = -30.59\n",
    "\n",
    "print(type(z))\n",
    "print(type(y))\n",
    "print(type(z))\n",
    "\n",
    "#A float in Python is a built-in data type used to represent numbers with a decimal point or fractional component.\n",
    "\n",
    "#Float can also be scientific numbers with an \"e\" to indicate the power of 10.\n",
    "\n",
    "#Example\n",
    "\n",
    "\n",
    "x = 35e3\n",
    "y = 12E4\n",
    "z = -87.7e100\n",
    "\n",
    "print(type(x))\n",
    "print(type(y))\n",
    "print(type(z))"
   ]
  },
  {
   "cell_type": "markdown",
   "id": "083ad91b",
   "metadata": {},
   "source": [
    "# Python Strings"
   ]
  },
  {
   "cell_type": "raw",
   "id": "50da3e4b",
   "metadata": {},
   "source": [
    "Now let's dive into strings\n",
    "\n",
    "Strings in python are surrounded by either single quotation marks, or double quotation marks.\n",
    "\n",
    "for instance 'hello' is the same as \"hello\".\n",
    "you can display a string literal with the print() funtion:\n"
   ]
  },
  {
   "cell_type": "code",
   "execution_count": 8,
   "id": "02855ead",
   "metadata": {},
   "outputs": [
    {
     "name": "stdout",
     "output_type": "stream",
     "text": [
      "Hello\n",
      "Hello\n"
     ]
    }
   ],
   "source": [
    "#Example\n",
    "print(\"Hello\")\n",
    "print('Hello')"
   ]
  },
  {
   "cell_type": "raw",
   "id": "8d689ad3",
   "metadata": {},
   "source": [
    "Quotes inside Quotes\n",
    "You can use quotes inside a string, as long as they don't match the quotes surrounding the string:"
   ]
  },
  {
   "cell_type": "code",
   "execution_count": 9,
   "id": "4a195676",
   "metadata": {},
   "outputs": [
    {
     "name": "stdout",
     "output_type": "stream",
     "text": [
      "It's alright\n",
      "He is called 'Johnny'\n",
      "He is called \"Johnny\"\n"
     ]
    }
   ],
   "source": [
    "#Example\n",
    "print(\"It's alright\")\n",
    "print(\"He is called 'Johnny'\")\n",
    "print('He is called \"Johnny\"')"
   ]
  },
  {
   "cell_type": "raw",
   "id": "16587e6d",
   "metadata": {},
   "source": [
    "Multiline Strings\n",
    "You can assign a multiline string to a variable by using three quotes:"
   ]
  },
  {
   "cell_type": "code",
   "execution_count": 13,
   "id": "9abb1002",
   "metadata": {},
   "outputs": [
    {
     "name": "stdout",
     "output_type": "stream",
     "text": [
      "Lorem ipsum dolor sit amet,\n",
      "consectetur adipiscing elit,\n",
      "sed do eiusmod tempor incididunt\n",
      "ut labore et dolore magna aliqua.\n",
      "Lorem ipsum dolor sit amet,\n",
      "consectetur adipiscing elit,\n",
      "sed do eiusmod tempor incididunt\n",
      "ut labore et dolore magna aliqua.\n"
     ]
    }
   ],
   "source": [
    "#Exampple\n",
    "#you can use double quotes:\n",
    "x = \"\"\"Lorem ipsum dolor sit amet,\n",
    "consectetur adipiscing elit,\n",
    "sed do eiusmod tempor incididunt\n",
    "ut labore et dolore magna aliqua.\"\"\"\n",
    "print(x)\n",
    "\n",
    "\n",
    "#or three single quotes:\n",
    "y = '''Lorem ipsum dolor sit amet,\n",
    "consectetur adipiscing elit,\n",
    "sed do eiusmod tempor incididunt\n",
    "ut labore et dolore magna aliqua.'''\n",
    "print(y)\n",
    "\n",
    "\n",
    "#Note: in the result, the line breaks are inserted at the same position as in the code."
   ]
  },
  {
   "cell_type": "markdown",
   "id": "b29f86a9",
   "metadata": {},
   "source": [
    "# Python - Slicing Strings"
   ]
  },
  {
   "cell_type": "raw",
   "id": "bc471988",
   "metadata": {},
   "source": [
    "Here it comes the String Slicing,You can return a range of chraracters by using slice syntax\n",
    "specify the start index and the end index, separated by colon,to return a part of the string."
   ]
  },
  {
   "cell_type": "code",
   "execution_count": 14,
   "id": "43588f3f",
   "metadata": {},
   "outputs": [
    {
     "name": "stdout",
     "output_type": "stream",
     "text": [
      "llo\n"
     ]
    }
   ],
   "source": [
    "#Example \n",
    "#get the characters from position 2 to position 5(not included)\n",
    "b = 'hello,world'\n",
    "\n",
    "print(b[2:5])\n",
    "\n",
    "#In this example, the string b = 'hello,world' is sliced from index 2 to 5, but the character at index 5 is not included. \n",
    "#So, print(b[2:5]) will output 'llo', which are the characters from index 2 to 4.\n",
    "\n",
    "#Note: The first character has index 0."
   ]
  },
  {
   "cell_type": "raw",
   "id": "74ac4ccb",
   "metadata": {},
   "source": [
    "Slice From the Start\n",
    "By leaving out the start index, the range will start at the first character:"
   ]
  },
  {
   "cell_type": "code",
   "execution_count": 15,
   "id": "0576b0c7",
   "metadata": {},
   "outputs": [
    {
     "name": "stdout",
     "output_type": "stream",
     "text": [
      "hello\n"
     ]
    }
   ],
   "source": [
    "#Example\n",
    "#Get the character from the start to position 5 (no included):\n",
    "x = 'hello world'\n",
    "print(x[:5])"
   ]
  },
  {
   "cell_type": "raw",
   "id": "46d1efcc",
   "metadata": {},
   "source": [
    "Slice To the End\n",
    "By leaving out the end indec , the range will go to the end:"
   ]
  },
  {
   "cell_type": "code",
   "execution_count": 17,
   "id": "a6fc33cd",
   "metadata": {},
   "outputs": [
    {
     "name": "stdout",
     "output_type": "stream",
     "text": [
      "llo world\n"
     ]
    }
   ],
   "source": [
    "#Example\n",
    "#Get the character from position 2 , all the way to the end:\n",
    "x= 'hello world'\n",
    "\n",
    "print(x[2:])\n"
   ]
  },
  {
   "cell_type": "raw",
   "id": "5f935974",
   "metadata": {},
   "source": [
    "Negative Indexing\n",
    "Use negative indexes to start the slice from the end of the string "
   ]
  },
  {
   "cell_type": "code",
   "execution_count": 20,
   "id": "9c4193e6",
   "metadata": {},
   "outputs": [
    {
     "name": "stdout",
     "output_type": "stream",
     "text": [
      "orl\n"
     ]
    }
   ],
   "source": [
    "#Example\n",
    "#Get the character:\n",
    "#from: o in the \"world\" (position-5)\n",
    "#to , but not included: \"d in the world\"(postion-2)\n",
    "\n",
    "b = \"Hello, World!\"\n",
    "print(b[-5:-2])\n",
    "\n",
    "#note:The last character ('!') is -1."
   ]
  },
  {
   "cell_type": "markdown",
   "id": "bd51ec87",
   "metadata": {},
   "source": [
    "# Python - Modify Strings"
   ]
  },
  {
   "cell_type": "raw",
   "id": "88334039",
   "metadata": {},
   "source": [
    "Python has a set of built-in methods that you can use on strings."
   ]
  },
  {
   "cell_type": "raw",
   "id": "ceae9361",
   "metadata": {},
   "source": [
    "Upper Case\n",
    "The upper() method converts all the lowercase letter in a string and return a new string without modifying the original one "
   ]
  },
  {
   "cell_type": "code",
   "execution_count": 22,
   "id": "5944a352",
   "metadata": {},
   "outputs": [
    {
     "name": "stdout",
     "output_type": "stream",
     "text": [
      "HELLO WORLD\n"
     ]
    }
   ],
   "source": [
    "#Exampple \n",
    "#The upper() ethod returns the string in upper case:\n",
    "\n",
    "x  = 'hello world'\n",
    "print(x.upper())"
   ]
  },
  {
   "cell_type": "raw",
   "id": "d7bd57e9",
   "metadata": {},
   "source": [
    "Lower Case\n",
    "\n",
    "same gose with the lower() method returen the string in lower case with out modifying the original string"
   ]
  },
  {
   "cell_type": "code",
   "execution_count": 24,
   "id": "8145296f",
   "metadata": {},
   "outputs": [
    {
     "name": "stdout",
     "output_type": "stream",
     "text": [
      "hello world\n"
     ]
    }
   ],
   "source": [
    "#Example\n",
    "\n",
    "x = 'HELLO WORLD'\n",
    "print(x.lower())"
   ]
  },
  {
   "cell_type": "raw",
   "id": "d9c2d3cf",
   "metadata": {},
   "source": [
    "Remove Whitespace\n",
    "Whitespace is the space before and/or afterthe actual text. and very often you want to remove this space.\n",
    "in order to remove whitespace we will use strip() method"
   ]
  },
  {
   "cell_type": "code",
   "execution_count": 26,
   "id": "8be7a2bd",
   "metadata": {},
   "outputs": [
    {
     "name": "stdout",
     "output_type": "stream",
     "text": [
      "hello, world\n"
     ]
    }
   ],
   "source": [
    "#Example \n",
    "#the strip() method removes any whitespace from the beginning or the end:\n",
    "x = ' hello, world ' # here i add space in the beginning and the end if you will notice\n",
    "\n",
    "print(x.strip()) # returs 'hello, wrold'"
   ]
  },
  {
   "cell_type": "raw",
   "id": "781aee56",
   "metadata": {},
   "source": [
    "Replace String\n",
    "The replace() method replaces a string with another string"
   ]
  },
  {
   "cell_type": "code",
   "execution_count": 28,
   "id": "419cb087",
   "metadata": {},
   "outputs": [
    {
     "name": "stdout",
     "output_type": "stream",
     "text": [
      "hejjo worjd\n"
     ]
    }
   ],
   "source": [
    "#Example\n",
    "\n",
    "x = 'hello world'\n",
    "\n",
    "print(x.replace('l','j')) #The line replaces all occurrences of the character 'l' with 'j' in the string x and prints the modified string."
   ]
  },
  {
   "cell_type": "raw",
   "id": "aa183fb4",
   "metadata": {},
   "source": [
    "Split String\n",
    "\n",
    "The split() method returns a list where the text between the sepecified separator becoms the list items."
   ]
  },
  {
   "cell_type": "code",
   "execution_count": 34,
   "id": "7d96ca41",
   "metadata": {},
   "outputs": [
    {
     "name": "stdout",
     "output_type": "stream",
     "text": [
      "['hello', ' world!']\n"
     ]
    }
   ],
   "source": [
    "#Example\n",
    "\n",
    "x = 'hello, world!'\n",
    "print(x.split(',')) # returns ['hello', 'wrold']"
   ]
  },
  {
   "cell_type": "markdown",
   "id": "031d0998",
   "metadata": {},
   "source": [
    "# Python - String Concatenation"
   ]
  },
  {
   "cell_type": "raw",
   "id": "fe46707c",
   "metadata": {},
   "source": [
    "String Concatenation\n",
    "\n",
    "To concatenate , or combine, tow strins you can use + operator.\n"
   ]
  },
  {
   "cell_type": "code",
   "execution_count": 37,
   "id": "2fecd5bc",
   "metadata": {},
   "outputs": [
    {
     "name": "stdout",
     "output_type": "stream",
     "text": [
      "helloworld\n",
      "hello world\n"
     ]
    }
   ],
   "source": [
    "#Example\n",
    "#Merge variable x with variable y into new variable z:\n",
    "x = 'hello'\n",
    "y = 'world'\n",
    "z = x+y\n",
    "\n",
    "print(z) #out will be 'hellowrold'\n",
    "\n",
    "# to add space between them, add a ' ' or \" \":\n",
    "\n",
    "a = x+' '+y\n",
    "print(a) #out will be ' hello world' "
   ]
  },
  {
   "cell_type": "markdown",
   "id": "a2f9eed9",
   "metadata": {},
   "source": [
    "# Python - Format - Strings"
   ]
  },
  {
   "cell_type": "raw",
   "id": "a1e6fa59",
   "metadata": {},
   "source": [
    "String Format\n",
    "As we learnd in the python variables chapter, we cannot combine string and numbers like this"
   ]
  },
  {
   "cell_type": "code",
   "execution_count": 38,
   "id": "637c0c5e",
   "metadata": {},
   "outputs": [
    {
     "ename": "TypeError",
     "evalue": "can only concatenate str (not \"int\") to str",
     "output_type": "error",
     "traceback": [
      "\u001b[1;31m---------------------------------------------------------------------------\u001b[0m",
      "\u001b[1;31mTypeError\u001b[0m                                 Traceback (most recent call last)",
      "Cell \u001b[1;32mIn[38], line 4\u001b[0m\n\u001b[0;32m      1\u001b[0m \u001b[38;5;66;03m#Example \u001b[39;00m\n\u001b[0;32m      3\u001b[0m age \u001b[38;5;241m=\u001b[39m \u001b[38;5;241m44\u001b[39m\n\u001b[1;32m----> 4\u001b[0m name \u001b[38;5;241m=\u001b[39m \u001b[38;5;124m\"\u001b[39m\u001b[38;5;124mmy name is gill,i am \u001b[39m\u001b[38;5;124m\"\u001b[39m\u001b[38;5;241m+\u001b[39mage\n",
      "\u001b[1;31mTypeError\u001b[0m: can only concatenate str (not \"int\") to str"
     ]
    }
   ],
   "source": [
    "#Example \n",
    "\n",
    "age = 44\n",
    "name = \"my name is gill,i am \"+age # this will give us can only concatenate str (not \"int\") to str"
   ]
  },
  {
   "cell_type": "raw",
   "id": "bc5dd0b3",
   "metadata": {},
   "source": [
    "# But we can combine string and numbers by using f-strings or the format() method!"
   ]
  },
  {
   "cell_type": "raw",
   "id": "a78f1d6b",
   "metadata": {},
   "source": [
    "F-Strings\n",
    "\n",
    "F- string was indtroduced in python 3.6 and is now the preferred way of formatting strings\n",
    "To specify a string as a f-string, simply put an f in front of the string litrel, and add curly brackets{}\n",
    "as placeholder for variable and other oprations."
   ]
  },
  {
   "cell_type": "code",
   "execution_count": 40,
   "id": "e102121b",
   "metadata": {},
   "outputs": [
    {
     "name": "stdout",
     "output_type": "stream",
     "text": [
      "my name is gill,i am 44\n"
     ]
    }
   ],
   "source": [
    "#Example\n",
    "\n",
    "age = 44\n",
    "name = f\"my name is gill,i am {age}\"\n",
    "print(name)"
   ]
  },
  {
   "cell_type": "raw",
   "id": "5be6e7d0",
   "metadata": {},
   "source": [
    "Placeholders and Modifiers\n",
    "A placeholder can  contain variables, operations,functions,and modifiers to format the value"
   ]
  },
  {
   "cell_type": "code",
   "execution_count": 42,
   "id": "e7672b34",
   "metadata": {},
   "outputs": [
    {
     "name": "stdout",
     "output_type": "stream",
     "text": [
      "the price is 69  dollars\n"
     ]
    }
   ],
   "source": [
    "#Example \n",
    "price = 69\n",
    "txt = f\"the price is {price}  dollars\"\n",
    "print(txt)"
   ]
  },
  {
   "cell_type": "raw",
   "id": "61b7ba72",
   "metadata": {},
   "source": [
    "A place holder can include a modifire ti format the vlaue.\n",
    "\n",
    "A modifier is include by adding a colon : followed by a legal fomating type,.2f which means fixed point number with 2 \n",
    "decimals:\n",
    "        "
   ]
  },
  {
   "cell_type": "code",
   "execution_count": 44,
   "id": "f27b2586",
   "metadata": {},
   "outputs": [
    {
     "name": "stdout",
     "output_type": "stream",
     "text": [
      "the price is 69.00 dollars\n"
     ]
    }
   ],
   "source": [
    "#Example\n",
    "\n",
    "#Display the price with 2 decimals:\n",
    "\n",
    "price = 69\n",
    "txt =f\"the price is {price:.2f} dollars\"\n",
    "print(txt)"
   ]
  },
  {
   "cell_type": "code",
   "execution_count": 51,
   "id": "ae28c592",
   "metadata": {},
   "outputs": [
    {
     "name": "stdout",
     "output_type": "stream",
     "text": [
      "the price is 1380 dollars\n"
     ]
    }
   ],
   "source": [
    "#A placeholder can contain python code, like math operation:\n",
    "\n",
    "#Example\n",
    "\n",
    "#perform a mathe operation in the placeholder, and return the result:\n",
    "\n",
    "txt = f\"the price is {20*69} dollars\" \n",
    "print(txt)"
   ]
  },
  {
   "cell_type": "markdown",
   "id": "c0bbc654",
   "metadata": {},
   "source": [
    "# Python - Escape Characters"
   ]
  },
  {
   "cell_type": "raw",
   "id": "aca2ca80",
   "metadata": {},
   "source": [
    "Escape Character\n",
    "To inster character that are illegal in a string, use an excape character.\n",
    "\n",
    "An escape character is backlash\\ followed by the character you want to inster\n",
    "An example of illegal character is a double qoute inside a string that i surrounded by double qutes:\n",
    "    "
   ]
  },
  {
   "cell_type": "code",
   "execution_count": 57,
   "id": "a5a3253a",
   "metadata": {},
   "outputs": [
    {
     "ename": "SyntaxError",
     "evalue": "invalid syntax (3605857490.py, line 3)",
     "output_type": "error",
     "traceback": [
      "\u001b[1;36m  Cell \u001b[1;32mIn[57], line 3\u001b[1;36m\u001b[0m\n\u001b[1;33m    txt = \"we are the so-called \"bodybuilders\" from the india\"\u001b[0m\n\u001b[1;37m                                 ^\u001b[0m\n\u001b[1;31mSyntaxError\u001b[0m\u001b[1;31m:\u001b[0m invalid syntax\n"
     ]
    }
   ],
   "source": [
    "#Example\n",
    "# you will get an error f you use double quotes inside a string that is surrouded by double quotes:\n",
    "txt = \"we are the so-called \"bodybuilders\" from the india\"\n",
    "print(txtx)\n"
   ]
  },
  {
   "cell_type": "code",
   "execution_count": 58,
   "id": "0ef0f08f",
   "metadata": {},
   "outputs": [
    {
     "name": "stdout",
     "output_type": "stream",
     "text": [
      "we are the so-called \"bodybuiders\" from the india\n"
     ]
    }
   ],
   "source": [
    "#to fix this problem, use the escape character|\":\n",
    "#Example \n",
    "#the escape character allow you to use double qoutes when you normally would no be allowed:\n",
    "\n",
    "txt = \"we are the so-called \\\"bodybuiders\\\" from the india\"\n",
    "print(txt)"
   ]
  },
  {
   "cell_type": "markdown",
   "id": "1bda96c0",
   "metadata": {},
   "source": [
    "# Python - String Methods\n"
   ]
  },
  {
   "cell_type": "raw",
   "id": "cfcbd8ba",
   "metadata": {},
   "source": [
    "String Methods\n",
    "\n",
    "Python has a set of built-in methods that you can use on strings.\n",
    "\n",
    "NOTE: All string methodes return new values. They do not change the original string"
   ]
  },
  {
   "cell_type": "code",
   "execution_count": null,
   "id": "9d4dc4f3",
   "metadata": {},
   "outputs": [],
   "source": [
    "Method\t                                               Description\n",
    "capitalize()\t                                       Converts the first character to upper case\n",
    "casefold()\t                                           Converts string into lower case\n",
    "center()\t                                           Returns a centered string\n",
    "count()\t                                               Returns the number of times a specified value occurs in a string\n",
    "encode()\t                                           Returns an encoded version of the string\n",
    "endswith()\t                                           Returns true if the string ends with the specified value\n",
    "expandtabs()\t                                       Sets the tab size of the string\n",
    "find()\t                                               Searches the string for a specified value and returns the position of where it was found\n",
    "format()\t                                           Formats specified values in a string\n",
    "format_map()\t                                       Formats specified values in a string\n",
    "index()\t                                               Searches the string for a specified value and returns the position of where it was found\n",
    "isalnum()\t                                           Returns True if all characters in the string are alphanumeric\n",
    "isalpha()\t                                           Returns True if all characters in the string are in the alphabet\n",
    "isascii()\t                                           Returns True if all characters in the string are ascii characters\n",
    "isdecimal()\t                                           Returns True if all characters in the string are decimals\n",
    "isdigit()\t                                           Returns True if all characters in the string are digits\n",
    "isidentifier()\t                                       Returns True if the string is an identifier\n",
    "islower()\t                                           Returns True if all characters in the string are lower case\n",
    "isnumeric()\t                                           Returns True if all characters in the string are numeric\n",
    "isprintable()\t                                       Returns True if all characters in the string are printable\n",
    "isspace()\t                                           Returns True if all characters in the string are whitespaces\n",
    "istitle()\t                                           Returns True if the string follows the rules of a title\n",
    "isupper()\t                                           Returns True if all characters in the string are upper case\n",
    "join()\t                                               Joins the elements of an iterable to the end of the string\n",
    "ljust()\t                                               Returns a left justified version of the string\n",
    "lower()\t                                               Converts a string into lower case\n",
    "lstrip()\t                                           Returns a left trim version of the string\n",
    "maketrans()\t                                           Returns a translation table to be used in translations\n",
    "partition()\t                                           Returns a tuple where the string is parted into three parts\n",
    "replace()\t                                           Returns a string where a specified value is replaced with a specified value\n",
    "rfind()\t                                               Searches the string for a specified value and returns the last position of where it was found\n",
    "rindex()\t                                           Searches the string for a specified value and returns the last position of where it was found\n",
    "rjust()\t                                               Returns a right justified version of the string\n",
    "rpartition()\t                                       Returns a tuple where the string is parted into three parts\n",
    "rsplit()\t                                           Splits the string at the specified separator, and returns a list\n",
    "rstrip()\t                                           Returns a right trim version of the string\n",
    "split()\t                                               Splits the string at the specified separator, and returns a list\n",
    "splitlines()\t                                       Splits the string at line breaks and returns a list\n",
    "startswith()\t                                       Returns true if the string starts with the specified value\n",
    "strip()\t                                               Returns a trimmed version of the string\n",
    "swapcase()\t                                           Swaps cases, lower case becomes upper case and vice versa\n",
    "title()\t                                               Converts the first character of each word to upper case\n",
    "translate()\t                                           Returns a translated string\n",
    "upper()\t                                               Converts a string into upper case\n",
    "zfill()\t                                               Fills the string with a specified number of 0 values at the beginning"
   ]
  },
  {
   "cell_type": "markdown",
   "id": "b5c214b4",
   "metadata": {},
   "source": [
    "# Exercise: Python Strings"
   ]
  },
  {
   "cell_type": "code",
   "execution_count": 60,
   "id": "b8232576",
   "metadata": {},
   "outputs": [
    {
     "name": "stdout",
     "output_type": "stream",
     "text": [
      "c\n"
     ]
    }
   ],
   "source": [
    "x = \"welcome\"\n",
    "\n",
    "print(x[3])"
   ]
  },
  {
   "cell_type": "raw",
   "id": "b66aad5d",
   "metadata": {},
   "source": [
    "The len() function in Python returns the number of items in an object, such as the total number of characters in a string or elements in a list. It takes a single argument (the object) and outputs its length.\n"
   ]
  },
  {
   "cell_type": "code",
   "execution_count": 61,
   "id": "eddd9407",
   "metadata": {},
   "outputs": [
    {
     "name": "stdout",
     "output_type": "stream",
     "text": [
      "11\n"
     ]
    }
   ],
   "source": [
    "x = \"hello world\"\n",
    "print(len(x))"
   ]
  },
  {
   "cell_type": "code",
   "execution_count": 62,
   "id": "4fa4d8b5",
   "metadata": {},
   "outputs": [
    {
     "name": "stdout",
     "output_type": "stream",
     "text": [
      "h\n"
     ]
    }
   ],
   "source": [
    "#Get the first character of the string txt.\n",
    "txt = 'hello wolrd'\n",
    "\n",
    "print(txt[0])"
   ]
  },
  {
   "cell_type": "markdown",
   "id": "0c8270e0",
   "metadata": {},
   "source": [
    "# Exercise: Python Slicing Strings"
   ]
  },
  {
   "cell_type": "code",
   "execution_count": 63,
   "id": "3ffe9f2d",
   "metadata": {},
   "outputs": [
    {
     "name": "stdout",
     "output_type": "stream",
     "text": [
      "co\n"
     ]
    }
   ],
   "source": [
    "#get the character \"co\" from \"welcome\"\n",
    "x = 'Welcome'\n",
    "print(x[3:5])"
   ]
  },
  {
   "cell_type": "code",
   "execution_count": 64,
   "id": "9794918d",
   "metadata": {},
   "outputs": [
    {
     "name": "stdout",
     "output_type": "stream",
     "text": [
      "llo\n"
     ]
    }
   ],
   "source": [
    "#Get the characters from index 2 to index 4\n",
    "txt ='hello world'\n",
    "\n",
    "print(txt[2:5])"
   ]
  },
  {
   "cell_type": "code",
   "execution_count": 65,
   "id": "4b96387d",
   "metadata": {},
   "outputs": [
    {
     "name": "stdout",
     "output_type": "stream",
     "text": [
      "com\n"
     ]
    }
   ],
   "source": [
    "# get the character come from the \"welcome\"\n",
    "\n",
    "txt = 'welcome'\n",
    "print(txt[3:])"
   ]
  },
  {
   "cell_type": "code",
   "execution_count": 70,
   "id": "6610be22",
   "metadata": {},
   "outputs": [
    {
     "name": "stdout",
     "output_type": "stream",
     "text": [
      "hello world\n"
     ]
    }
   ],
   "source": [
    "#Return the string without any whitespace at the beginning or the end.\n",
    "\n",
    "txt = \" hello world \"\n",
    "\n",
    "print(txt.strip())"
   ]
  },
  {
   "cell_type": "code",
   "execution_count": 71,
   "id": "5ee2c8b7",
   "metadata": {},
   "outputs": [
    {
     "name": "stdout",
     "output_type": "stream",
     "text": [
      "HELLO WROLD\n"
     ]
    }
   ],
   "source": [
    "#Convert the value of txt to upper case.\n",
    "\n",
    "txt ='Hello Wrold'\n",
    "\n",
    "print(txt.upper())"
   ]
  },
  {
   "cell_type": "code",
   "execution_count": 72,
   "id": "f66823aa",
   "metadata": {},
   "outputs": [
    {
     "name": "stdout",
     "output_type": "stream",
     "text": [
      "hello world\n"
     ]
    }
   ],
   "source": [
    "#Convert the value of txt to lower case.\n",
    "\n",
    "txt = 'Hello World'\n",
    "print(txt.lower())"
   ]
  },
  {
   "cell_type": "code",
   "execution_count": 79,
   "id": "bb31b424",
   "metadata": {},
   "outputs": [
    {
     "name": "stdout",
     "output_type": "stream",
     "text": [
      "Jello World\n"
     ]
    }
   ],
   "source": [
    "#Replace the character H with a J.\n",
    "\n",
    "txt = \"Hello World\"\n",
    "txt2 = txt.replace(\"H\", \"J\")\n",
    "print(txt2)"
   ]
  },
  {
   "cell_type": "code",
   "execution_count": 81,
   "id": "09242c4e",
   "metadata": {},
   "outputs": [
    {
     "name": "stdout",
     "output_type": "stream",
     "text": [
      "WelcomeCoders\n"
     ]
    }
   ],
   "source": [
    "#Concatenate \n",
    "x = 'Welcome'\n",
    "y = 'Coders'\n",
    "print(x + y)"
   ]
  },
  {
   "cell_type": "code",
   "execution_count": 82,
   "id": "55ad0fa9",
   "metadata": {},
   "outputs": [
    {
     "name": "stdout",
     "output_type": "stream",
     "text": [
      "Join the party\n"
     ]
    }
   ],
   "source": [
    "#Concatenate \n",
    "a = 'Join'\n",
    "b = 'the'\n",
    "c = 'party'\n",
    "print(a + ' ' + b + ' ' + c)"
   ]
  },
  {
   "cell_type": "code",
   "execution_count": 83,
   "id": "3b02a756",
   "metadata": {},
   "outputs": [
    {
     "name": "stdout",
     "output_type": "stream",
     "text": [
      "my name is gill, i am 56\n"
     ]
    }
   ],
   "source": [
    "#Insert the correct syntax to add a placeholder for the age parameter.\n",
    "\n",
    "age = 56\n",
    "txt= f\"my name is gill, i am {age}\"\n",
    "print(txt)"
   ]
  },
  {
   "cell_type": "code",
   "execution_count": null,
   "id": "c3cc6986",
   "metadata": {},
   "outputs": [],
   "source": []
  }
 ],
 "metadata": {
  "kernelspec": {
   "display_name": "Python 3 (ipykernel)",
   "language": "python",
   "name": "python3"
  },
  "language_info": {
   "codemirror_mode": {
    "name": "ipython",
    "version": 3
   },
   "file_extension": ".py",
   "mimetype": "text/x-python",
   "name": "python",
   "nbconvert_exporter": "python",
   "pygments_lexer": "ipython3",
   "version": "3.11.4"
  }
 },
 "nbformat": 4,
 "nbformat_minor": 5
}
